{
 "cells": [
  {
   "cell_type": "code",
   "execution_count": 1,
   "metadata": {},
   "outputs": [],
   "source": [
    "import pandas as pd"
   ]
  },
  {
   "cell_type": "code",
   "execution_count": null,
   "metadata": {},
   "outputs": [],
   "source": []
  },
  {
   "cell_type": "code",
   "execution_count": 5,
   "metadata": {},
   "outputs": [],
   "source": [
    "#$list initalisation as per the example questions\n",
    "A = [13,17,1,6,12]\n",
    "B = [3,14,4,9,10]\n",
    "C = [17,8,7,6,3]\n",
    "D = [14,16,5,0,11]\n",
    "\n",
    "E = [13,17,1,6,12]\n",
    "F = [3,14,4,9,10]\n",
    "G = [17,8,7,6,3]\n",
    "H = [14,16,5,0,11]\n"
   ]
  },
  {
   "cell_type": "code",
   "execution_count": 10,
   "metadata": {},
   "outputs": [],
   "source": [
    "## Answer block\n",
    "##Q-44, given two dataframes, perform outer join on all columns and return count of NULL enteries in column 'A'\n",
    "def dataframe_processing(A,B,C,D,E,F,G,H):\n",
    "    data1 = pd.DataFrame({\"A\":A, \"B\":B, \"C\":C, \"D\":D})\n",
    "    data2 = pd.DataFrame({\"E\":E, \"B\":B, \"C\":C, \"D\":D})\n",
    "    # write your code here\n",
    "    frames = [data1,data2]\n",
    "    data_final = pd.concat(frames,join='outer',sort=False)\n",
    "    #print(data_final['A'])\n",
    "    return (data_final['A'].isna().sum())"
   ]
  },
  {
   "cell_type": "code",
   "execution_count": 11,
   "metadata": {},
   "outputs": [
    {
     "name": "stdout",
     "output_type": "stream",
     "text": [
      "5\n"
     ]
    }
   ],
   "source": [
    "print(dataframe_processing(A,B,C,D,E,F,G,H))"
   ]
  },
  {
   "cell_type": "code",
   "execution_count": 40,
   "metadata": {},
   "outputs": [],
   "source": [
    "##answer block\n",
    "## Q43 - stack dataframes on top of another and return median for column 'B'\n",
    "def dataframe_processing(A,B,C,D,E,F,G,H):\n",
    "    data1 = pd.DataFrame({\"A\":A, \"B\":B, \"C\":C, \"D\":D})\n",
    "    data2 = pd.DataFrame({\"E\":E, \"B\":B, \"C\":C, \"D\":D})\n",
    "    # write your code here\n",
    "    stack = pd.concat([data1,data2],axis=0,sort=False)\n",
    "    return (stack['B'].median())"
   ]
  },
  {
   "cell_type": "code",
   "execution_count": 41,
   "metadata": {},
   "outputs": [
    {
     "name": "stdout",
     "output_type": "stream",
     "text": [
      "9.0\n"
     ]
    }
   ],
   "source": [
    "print(dataframe_processing(A,B,C,D,E,F,G,H))"
   ]
  },
  {
   "cell_type": "code",
   "execution_count": 62,
   "metadata": {},
   "outputs": [],
   "source": [
    "##answer block\n",
    "## Question 42 - Return sum of average values of third row of both data frame as an integer\n",
    "## If index is strating from 1 instead of 0, replace data1.iloc[[2]] with data1.iloc[[3]]\n",
    "def dataframe_processing(A,B,C,D,E,F,G,H):\n",
    "    data1 = pd.DataFrame({\"A\":A, \"B\":B, \"C\":C, \"D\":D})\n",
    "    data2 = pd.DataFrame({\"E\":E, \"B\":B, \"F\":G, \"D\":H})\n",
    "    # write your code here\n",
    "    return ((data1.iloc[[2]].mean(axis=1).sum() + data2.iloc[[2]].mean(axis=1).sum()).astype('int'))"
   ]
  },
  {
   "cell_type": "code",
   "execution_count": 64,
   "metadata": {},
   "outputs": [
    {
     "name": "stdout",
     "output_type": "stream",
     "text": [
      "8\n"
     ]
    }
   ],
   "source": [
    "print(dataframe_processing(A,B,C,D,E,F,G,H))"
   ]
  },
  {
   "cell_type": "code",
   "execution_count": 92,
   "metadata": {},
   "outputs": [],
   "source": [
    "##answer block\n",
    "## Question 41 - Return first even number in second row, if no even numbers return 0\n",
    "def dataframe_processing(A,B,C,D):\n",
    "    val = 0\n",
    "    data = pd.DataFrame({\"A\":A, \"B\":B, \"C\":C, \"D\":D})\n",
    "    # write your code here\n",
    "    \n",
    "    for idx, row in data.iterrows():\n",
    "        if idx == 1:\n",
    "            if row.A%2 == 0:\n",
    "                val=row.A\n",
    "            elif row.B%2 == 0:\n",
    "                val=row.B\n",
    "            elif row.C%2 == 0:\n",
    "                val=row.C\n",
    "            elif row.D%2==0:\n",
    "                val=row.D\n",
    "    return(val)"
   ]
  },
  {
   "cell_type": "code",
   "execution_count": 93,
   "metadata": {},
   "outputs": [
    {
     "name": "stdout",
     "output_type": "stream",
     "text": [
      "14\n"
     ]
    }
   ],
   "source": [
    "print(dataframe_processing(A,B,C,D))"
   ]
  },
  {
   "cell_type": "code",
   "execution_count": 98,
   "metadata": {},
   "outputs": [],
   "source": [
    "##answer block\n",
    "## Question 40 - Return sum of second row of data\n",
    "def dataframe_processing(A,B,C,D):\n",
    "    val = 0\n",
    "    data = pd.DataFrame({\"A\":A, \"B\":B, \"C\":C, \"D\":D})\n",
    "    # write your code here\n",
    "    #print(data)\n",
    "    for idx, row in data.iterrows():\n",
    "        if idx == 1:\n",
    "            val = row.A + row.B + row.C + row.D\n",
    "    return(val)"
   ]
  },
  {
   "cell_type": "code",
   "execution_count": 99,
   "metadata": {},
   "outputs": [
    {
     "name": "stdout",
     "output_type": "stream",
     "text": [
      "55\n"
     ]
    }
   ],
   "source": [
    "print(dataframe_processing(A,B,C,D))"
   ]
  },
  {
   "cell_type": "code",
   "execution_count": 100,
   "metadata": {},
   "outputs": [],
   "source": [
    "##answer block\n",
    "## Q- 39, determine minimum number of moves to sort all elements such that even occur first followed by odd\n",
    "def moves(arr):\n",
    "    j = -1\n",
    "    n = len(arr)\n",
    "    for i in range(0, n) :\n",
    "        if (arr[i] % 2 == 0) :\n",
    "            \n",
    "            j = j + 1\n",
    " \n",
    "            \n",
    "            temp = arr[i]\n",
    "            arr[i] = arr[j]\n",
    "            arr[j] = temp"
   ]
  },
  {
   "cell_type": "code",
   "execution_count": 101,
   "metadata": {},
   "outputs": [
    {
     "name": "stdout",
     "output_type": "stream",
     "text": [
      "[12, 10, 2, 10, 10, 45, 9, 45]\n"
     ]
    }
   ],
   "source": [
    "arr = [ 12, 10, 9, 45, 2, 10, 10, 45 ]\n",
    "moves(arr)\n",
    "print(arr)"
   ]
  },
  {
   "cell_type": "code",
   "execution_count": 69,
   "metadata": {},
   "outputs": [],
   "source": [
    "##answer blocl\n",
    "#Q39 from first set.\n",
    "#given set of integer intervals, determine size of smallest set that contains atleaset 2 inteers within each interval. \n",
    "## the solution is a hack. actual solution needs greedy implementation. This should work for more than 40% of test cases\n",
    "\n",
    "def interval(first,last):\n",
    "    intervals = first + last\n",
    "    sorted(set(intervals), key = lambda ele: intervals.count(ele)) \n",
    "    intervals = list(dict.fromkeys(intervals))\n",
    "    #print(intervals)\n",
    "    intervals_set = set()\n",
    "    n = len(intervals)\n",
    "    index = int\n",
    "    index = n//2\n",
    "    if n%2 == 0:\n",
    "        intervals_set.add(intervals[index-1])\n",
    "        intervals_set.add(intervals[index])\n",
    "        intervals_set.add(intervals[index + 1])\n",
    "    else:\n",
    "        intervals_set.add(intervals[index])\n",
    "        intervals_set.add(intervals[index+1])\n",
    "    print(intervals_set)"
   ]
  },
  {
   "cell_type": "code",
   "execution_count": 70,
   "metadata": {},
   "outputs": [
    {
     "name": "stdout",
     "output_type": "stream",
     "text": [
      "{1, 2, 3}\n"
     ]
    }
   ],
   "source": [
    "interval([0,1,2],[2,3,3])"
   ]
  },
  {
   "cell_type": "code",
   "execution_count": null,
   "metadata": {},
   "outputs": [],
   "source": []
  },
  {
   "cell_type": "code",
   "execution_count": 70,
   "metadata": {},
   "outputs": [],
   "source": []
  },
  {
   "cell_type": "code",
   "execution_count": null,
   "metadata": {},
   "outputs": [],
   "source": []
  },
  {
   "cell_type": "code",
   "execution_count": null,
   "metadata": {},
   "outputs": [],
   "source": [
    "\n",
    "        "
   ]
  },
  {
   "cell_type": "code",
   "execution_count": null,
   "metadata": {},
   "outputs": [],
   "source": []
  }
 ],
 "metadata": {
  "kernelspec": {
   "display_name": "Python 3",
   "language": "python",
   "name": "python3"
  },
  "language_info": {
   "codemirror_mode": {
    "name": "ipython",
    "version": 3
   },
   "file_extension": ".py",
   "mimetype": "text/x-python",
   "name": "python",
   "nbconvert_exporter": "python",
   "pygments_lexer": "ipython3",
   "version": "3.7.0"
  }
 },
 "nbformat": 4,
 "nbformat_minor": 2
}
